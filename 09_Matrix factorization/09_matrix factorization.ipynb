{
 "cells": [
  {
   "cell_type": "code",
   "execution_count": 59,
   "metadata": {},
   "outputs": [],
   "source": [
    "import numpy as np\n",
    "import scipy.linalg"
   ]
  },
  {
   "cell_type": "markdown",
   "metadata": {},
   "source": [
    "# Матричные разложения"
   ]
  },
  {
   "cell_type": "markdown",
   "metadata": {},
   "source": [
    "Для любой ненулевой вещественной матрицы $X$ размером $m\\times n$ существуют две вещественные ортогональные матрицы $U$ и $V$, такие, что $U^{T}XV$ является матрицей $D$ размера $m\\times n$ с неотрицательными элементами на главной диагонали (в прямоугольной матрице под главной диагональю будем понимать совокупность элементов $d_{ii}$). Все элементы матрицы $D$, не лежащие на главной диагонали, являются нулевыми."
   ]
  },
  {
   "cell_type": "markdown",
   "metadata": {},
   "source": [
    "$U$ и $V$ при этом можно выбрать таким образом, чтобы диагональные элементы матрицы $D$ имели вид\n",
    "\n",
    "$$\\mu_{1}\\geqslant \\mu_{2}\\geqslant ... \\geqslant \\mu_{r} > \\mu_{r+1}=...=\\mu_{n}=0,$$\n",
    "\n",
    "где $r$ — ранг матрицы $X$. В частности, если $X$ невырождена, то \n",
    "\n",
    "$$\\mu_{1}\\geqslant \\mu_{2}\\geqslant ... \\geqslant \\mu_{r} > 0.$$"
   ]
  },
  {
   "cell_type": "markdown",
   "metadata": {},
   "source": [
    "![title](factorization.png)"
   ]
  },
  {
   "cell_type": "markdown",
   "metadata": {},
   "source": [
    "Таким образом, задача матричного разложения сводится к декомпозиции начальной матрицы $X$ на произведение двух других матриц\n",
    "$U$ и $V$, чтобы ранг матрицы линейного оператора(аппроксимирующей матрицы) был меньше $k$.Ранг должен быть именно таким, поскольку, как правило, далеко не все исходные данные полезны. Например, они могут содержать шум, а признаки могут быть\n",
    "коллинеарными."
   ]
  },
  {
   "cell_type": "markdown",
   "metadata": {},
   "source": [
    "В конечном итоге, задача приближения начальной матрицы $X$ матрицей меньшего ранга примет вид\n",
    "\n",
    "$$U, V = {argmin {U, V}} : \\sum\\limits_{i, j}^{\\infty}(x_{i,j} - u_{i}v_{j}^T)^2$$"
   ]
  },
  {
   "cell_type": "markdown",
   "metadata": {},
   "source": [
    "Для оценки степени близости проекции матрицы $X$ к линейному отображению матрицы $X$ используются различные метрики оценки\n",
    "коэффициентов матрицы линейного оператора. Например, норма Фробениуса\n",
    "\n",
    "$$||X|| =\\sqrt{\\sum\\limits_{i, j}^{\\infty}{a_{i, j}^2}}$$"
   ]
  },
  {
   "cell_type": "markdown",
   "metadata": {},
   "source": [
    "Видим, что норма Фробениуса очень похожа на евклидову метрику(либо L2 норму). Также могут использоваться такие метрики как\n",
    "косинусное расстояние, манхэтеннская норма, и.т.д."
   ]
  },
  {
   "cell_type": "markdown",
   "metadata": {},
   "source": [
    "### LU-разложениe ###"
   ]
  },
  {
   "cell_type": "markdown",
   "metadata": {},
   "source": [
    "LU-разложениe — модификация метода Гаусса, придуманная Аланом Тьюрингом в 1948 году."
   ]
  },
  {
   "cell_type": "markdown",
   "metadata": {},
   "source": [
    "Пусть дана квадратная матрица $X$ порядка $n$, и $X_{k}$ — главный минор этой матрицы, составленный из первых $k$ строк и столбцов. Если $det(X_{k})\\neq0$ для $k=1,2,...,n-1$, тогда существует единственная нижняя треугольная матрица $L=(l_{ij})$, где $l_{11}=l_{22}=...=l_{nn}=1$, и единственная верхняя треугольная матрица $U=(u_{ij})$, такие, что $LU=A$. Более того, $det(A)=u_{11}\\cdot u_{22}\\cdot...\\cdot u_{nn}$."
   ]
  },
  {
   "cell_type": "markdown",
   "metadata": {},
   "source": [
    "Представление матрицы системы уравнений $X$ в виде произведения $LU$ явялется основной идеей гауссовских схем исключения, так как система $Xx=b$ может быть записана как\n",
    "\n",
    "$$LUx=b$$\n",
    "\n",
    "и сводится к двум системам с треугольными матрицами."
   ]
  },
  {
   "cell_type": "markdown",
   "metadata": {},
   "source": [
    "Если принять $Ux=y$, то получим\n",
    "\n",
    "$$Ly=b.$$\n",
    "\n",
    "Так как $L$ — нижняя треугольная матрица, компоненты промежуточного решения $y$ могут быть получены просто путем последовательной подстановки, так как первое уравнение содержит только $y_{1}$, второе —  $y_{1}$ и  $y_{}$ и т. д.\n",
    "\n",
    "Вторым шагом, когда мы нашли $y$, решается система\n",
    "\n",
    "$$Ux=y,$$\n",
    "\n",
    "где $U$ — верхняя треугольная матрица, то есть эта система также решается простой последовательной подстановкой в обратном порядке: $x_{n}, x_{n-1},...,x_{1}$."
   ]
  },
  {
   "cell_type": "markdown",
   "metadata": {},
   "source": [
    "Найдём с помощью NumPy LU для матрицы\n",
    "\n",
    "$$\\begin{pmatrix}\n",
    "7 & 3 & -1 & 2\\\\ \n",
    "3 & 8 & 1 & -4\\\\ \n",
    "-1 & 1 & 4 & -1\\\\ \n",
    "2 & -4 & -1 & 6\\\\ \n",
    "\\end{pmatrix}.$$"
   ]
  },
  {
   "cell_type": "code",
   "execution_count": 66,
   "metadata": {},
   "outputs": [],
   "source": [
    "A = np.array([[7, 3, -1, 2], \n",
    "              [3, 8, 1, -4], \n",
    "              [-1, 1, 4, -1], \n",
    "              [2, -4, -1, 6]])"
   ]
  },
  {
   "cell_type": "code",
   "execution_count": 67,
   "metadata": {},
   "outputs": [],
   "source": [
    "P, L, U = scipy.linalg.lu(A)"
   ]
  },
  {
   "cell_type": "code",
   "execution_count": 72,
   "metadata": {},
   "outputs": [
    {
     "data": {
      "text/plain": [
       "array([[1., 0., 0., 0.],\n",
       "       [0., 1., 0., 0.],\n",
       "       [0., 0., 1., 0.],\n",
       "       [0., 0., 0., 1.]])"
      ]
     },
     "execution_count": 72,
     "metadata": {},
     "output_type": "execute_result"
    }
   ],
   "source": [
    "P"
   ]
  },
  {
   "cell_type": "code",
   "execution_count": 73,
   "metadata": {},
   "outputs": [
    {
     "data": {
      "text/plain": [
       "array([[ 1.     ,  0.     ,  0.     ,  0.     ],\n",
       "       [ 0.42857,  1.     ,  0.     ,  0.     ],\n",
       "       [-0.14286,  0.21277,  1.     ,  0.     ],\n",
       "       [ 0.28571, -0.7234 ,  0.08982,  1.     ]])"
      ]
     },
     "execution_count": 73,
     "metadata": {},
     "output_type": "execute_result"
    }
   ],
   "source": [
    "L"
   ]
  },
  {
   "cell_type": "code",
   "execution_count": 74,
   "metadata": {},
   "outputs": [
    {
     "data": {
      "text/plain": [
       "array([[ 7.     ,  3.     , -1.     ,  2.     ],\n",
       "       [ 0.     ,  6.71429,  1.42857, -4.85714],\n",
       "       [ 0.     ,  0.     ,  3.55319,  0.31915],\n",
       "       [ 0.     ,  0.     ,  0.     ,  1.88623]])"
      ]
     },
     "execution_count": 74,
     "metadata": {},
     "output_type": "execute_result"
    }
   ],
   "source": [
    "U"
   ]
  },
  {
   "cell_type": "markdown",
   "metadata": {},
   "source": [
    "Осуществим проверку."
   ]
  },
  {
   "cell_type": "code",
   "execution_count": 75,
   "metadata": {},
   "outputs": [
    {
     "data": {
      "text/plain": [
       "array([[ 0.,  0.,  0.,  0.],\n",
       "       [ 0.,  0.,  0., -0.],\n",
       "       [ 0.,  0.,  0.,  0.],\n",
       "       [ 0., -0.,  0.,  0.]])"
      ]
     },
     "execution_count": 75,
     "metadata": {},
     "output_type": "execute_result"
    }
   ],
   "source": [
    "np.dot(P.transpose(), A) - np.dot(L, U)"
   ]
  },
  {
   "cell_type": "markdown",
   "metadata": {},
   "source": [
    "Разложение прошло успешно."
   ]
  },
  {
   "cell_type": "markdown",
   "metadata": {},
   "source": [
    "### Разложение Холецкого ###"
   ]
  },
  {
   "cell_type": "markdown",
   "metadata": {},
   "source": [
    "Метод заключается в разложении матрицы $X$ (при соблюдении условий ее симметричности и положительной определенности) на произведение матриц $LL^{T}$, описанном в Следствии 3. В этом разложении $L$ — нижняя треугольная матрица со строго положительными элементами на диагонали."
   ]
  },
  {
   "cell_type": "markdown",
   "metadata": {},
   "source": [
    "После получения разложения, аналогично методу $LU$-разложения, нужно представить систему уравнений в матричной форме как\n",
    "\n",
    "$$Xx=LL^{T}x=Ly=b$$\n",
    "\n",
    "и затем методом прямой подстановки решить последовательно две простые системы, характеризующиеся треугольными матрицами коэффициентов:\n",
    "\n",
    "$$Ly=b,$$\n",
    "$$L^{T}x=y.$$"
   ]
  },
  {
   "cell_type": "markdown",
   "metadata": {},
   "source": [
    "Найдем искомое разложениие.\n",
    "\n",
    "Из условия разложения, имея в виду правила умножения матриц, получаем\n",
    "\n",
    "$$a_{ij}=\\sum_{k=1}^{n}l_{ik}l_{kj}^{T},$$\n",
    "\n",
    "где $l_{ij}$ и $l_{ij}^{T}$ — элементы матриц $L$ и $L^{T}$ соответственно ($l_{ij}^{T}=l_{ji}$)."
   ]
  },
  {
   "cell_type": "markdown",
   "metadata": {},
   "source": [
    "В частности, при $i<j$ получим \n",
    "\n",
    "$$a_{ij}=\\sum_{k=1}^{j-1}l_{ik}l_{jk},$$\n",
    "\n",
    "$$l_{ij}=\\frac{1}{l_{jj}}\\left( a_{ij}-\\sum_{k=1}^{j-1}l_{ik}l_{jk}\\right ).$$"
   ]
  },
  {
   "cell_type": "markdown",
   "metadata": {},
   "source": [
    "При $i=j$:\n",
    "\n",
    "$$a_{ij}=\\sum_{k=1}^{i-1}l_{ik}^{2}+l_{ii}^{2}~~\\Rightarrow$$\n",
    "\n",
    "$$l_{ii}=\\sqrt{a_{ii}-\\sum_{k=1}^{i-1}l_{ik}^{2}}.$$"
   ]
  },
  {
   "cell_type": "markdown",
   "metadata": {},
   "source": [
    "Таким образом, элементы матрицы $L$ для нахождения $LL^{T}$-разложения вычисляются по следуюшим формулам:\n",
    "\n",
    "$$l_{ii}=\\sqrt{a_{ii}-\\sum_{k=1}^{i-1}l_{ik}^{2}},$$\n",
    "$$l_{ij}=\\frac{1}{l_{jj}}\\left( a_{ij}-\\sum_{k=1}^{j-1}l_{ik}l_{jk}\\right ), \\; j < i.$$"
   ]
  },
  {
   "cell_type": "markdown",
   "metadata": {},
   "source": [
    "Найдём с помощью NumPy разложение Холецкого для матрицы\n",
    "\n",
    "$$\\begin{pmatrix}\n",
    "7 & 3 & -1 & 2\\\\ \n",
    "3 & 8 & 1 & -4\\\\ \n",
    "-1 & 1 & 4 & -1\\\\ \n",
    "2 & -4 & -1 & 6\\\\ \n",
    "\\end{pmatrix}.$$"
   ]
  },
  {
   "cell_type": "code",
   "execution_count": 56,
   "metadata": {},
   "outputs": [],
   "source": [
    "A = np.array([[7, 3, -1, 2], \n",
    "              [3, 8, 1, -4], \n",
    "              [-1, 1, 4, -1], \n",
    "              [2, -4, -1, 6]])"
   ]
  },
  {
   "cell_type": "code",
   "execution_count": 57,
   "metadata": {},
   "outputs": [
    {
     "name": "stdout",
     "output_type": "stream",
     "text": [
      "[[ 2.64575  0.       0.       0.     ]\n",
      " [ 1.13389  2.59119  0.       0.     ]\n",
      " [-0.37796  0.55132  1.88499  0.     ]\n",
      " [ 0.75593 -1.87448  0.16931  1.3734 ]]\n"
     ]
    }
   ],
   "source": [
    "L = np.linalg.cholesky(A)\n",
    "print(L)"
   ]
  },
  {
   "cell_type": "markdown",
   "metadata": {},
   "source": [
    "Осуществим проверку."
   ]
  },
  {
   "cell_type": "code",
   "execution_count": 58,
   "metadata": {},
   "outputs": [
    {
     "data": {
      "text/plain": [
       "array([[ 7.,  3., -1.,  2.],\n",
       "       [ 3.,  8.,  1., -4.],\n",
       "       [-1.,  1.,  4., -1.],\n",
       "       [ 2., -4., -1.,  6.]])"
      ]
     },
     "execution_count": 58,
     "metadata": {},
     "output_type": "execute_result"
    }
   ],
   "source": [
    "np.dot(L, np.transpose(L))"
   ]
  },
  {
   "cell_type": "markdown",
   "metadata": {},
   "source": [
    "Разложение прошло успешно."
   ]
  },
  {
   "cell_type": "markdown",
   "metadata": {},
   "source": [
    "### SVD разложение ###"
   ]
  },
  {
   "cell_type": "markdown",
   "metadata": {},
   "source": [
    "Представление матрицы $X$ в виде\n",
    "\n",
    "$$X=UDV^{T}$$\n",
    "\n",
    "называется _сингулярным разложением (Singular Values Decomposition, SVD)_."
   ]
  },
  {
   "cell_type": "markdown",
   "metadata": {},
   "source": [
    "Элементы, лежащие на главной диагонали матрицы $D$, называются _сингулярными числами_ матрицы $A$. Столбцы матриц $U$ и $V$ называются _левыми и правыми сингулярными векторами_ матрицы $X$ соответственно."
   ]
  },
  {
   "cell_type": "markdown",
   "metadata": {},
   "source": [
    "Пусть матрица $X$ размера $m\\times n$ описывает линейный оператор, обозначаемый $\\textbf{A}$. Сингулярное разложение матрицы $A=UDV^{T}$ тогда можно будет переформулировать в геометрическом контексте: линейный оператор, характеризующий сложное отображение элементов пространства $\\mathbb{R}^{m}$ в элементы пространства $\\mathbb{R}^{n}$, можно будет представить в виде последовательно выполняемых простых линейных операций вращения (ортогональный оператор $U$), растяжения (диагональный оператор $D$) и снова вращения (ортогональный оператор $V^{T}$).\n",
    "\n",
    "Поэтому компоненты сингулярного разложения показывают геометрические изменения при отображении линейным оператором $\\textbf{A}$ векторов из одного линейного пространства в другое.\n",
    "\n",
    "Число ненулевых элементов на диагонали матрицы $D$ будет характеризовать фактическую размерность собственного пространства матрицы $A$ (набора векторов $b$, при котором уравнение $Ax=b$ будет иметь ненулевое решение)."
   ]
  },
  {
   "cell_type": "markdown",
   "metadata": {},
   "source": [
    "![title](svd.jpg)"
   ]
  },
  {
   "cell_type": "markdown",
   "metadata": {},
   "source": [
    "Найдём с помощью NumPy SVD для матрицы\n",
    "\n",
    "$$\\begin{pmatrix}\n",
    "1 & 2 & 0\\\\ \n",
    "0 & 0 & 5\\\\ \n",
    "3 & -4 & 2\\\\ \n",
    "1 & 6 & 5\\\\ \n",
    "0 & 1 & 0\n",
    "\\end{pmatrix}.$$"
   ]
  },
  {
   "cell_type": "code",
   "execution_count": 41,
   "metadata": {
    "scrolled": true
   },
   "outputs": [
    {
     "name": "stdout",
     "output_type": "stream",
     "text": [
      "Матрица A:\n",
      "[[ 1  2  0]\n",
      " [ 0  0  5]\n",
      " [ 3 -4  2]\n",
      " [ 1  6  5]\n",
      " [ 0  1  0]]\n"
     ]
    }
   ],
   "source": [
    "A = np.array([[1, 2, 0],\n",
    "              [0, 0, 5],\n",
    "             [3, -4, 2],\n",
    "             [1, 6, 5],\n",
    "             [0, 1, 0]])\n",
    "print(f'Матрица A:\\n{A}')"
   ]
  },
  {
   "cell_type": "code",
   "execution_count": 43,
   "metadata": {},
   "outputs": [],
   "source": [
    "U, s, W = np.linalg.svd(A)"
   ]
  },
  {
   "cell_type": "markdown",
   "metadata": {},
   "source": [
    "Транспонируем матрицу W."
   ]
  },
  {
   "cell_type": "code",
   "execution_count": 44,
   "metadata": {},
   "outputs": [],
   "source": [
    "V = W.T"
   ]
  },
  {
   "cell_type": "markdown",
   "metadata": {},
   "source": [
    "Cписок диагональных элементов s можно привести к виду диагональной матрицы для наглядности."
   ]
  },
  {
   "cell_type": "code",
   "execution_count": 45,
   "metadata": {},
   "outputs": [],
   "source": [
    "D = np.zeros_like(A, dtype=float)\n",
    "D[np.diag_indices(min(A.shape))] = s"
   ]
  },
  {
   "cell_type": "markdown",
   "metadata": {},
   "source": [
    "Убедимся, что матрица U действительно ортогональна."
   ]
  },
  {
   "cell_type": "code",
   "execution_count": 46,
   "metadata": {},
   "outputs": [
    {
     "name": "stdout",
     "output_type": "stream",
     "text": [
      "[[ 1.  0. -0. -0. -0.]\n",
      " [ 0.  1.  0. -0.  0.]\n",
      " [-0.  0.  1. -0. -0.]\n",
      " [-0. -0. -0.  1. -0.]\n",
      " [-0.  0. -0. -0.  1.]]\n"
     ]
    }
   ],
   "source": [
    "print(np.dot(U.T, U))"
   ]
  },
  {
   "cell_type": "markdown",
   "metadata": {},
   "source": [
    "Убедимся, что матрица V действительно ортогональна."
   ]
  },
  {
   "cell_type": "code",
   "execution_count": 47,
   "metadata": {},
   "outputs": [
    {
     "name": "stdout",
     "output_type": "stream",
     "text": [
      "[[ 1.  0.  0.]\n",
      " [ 0.  1. -0.]\n",
      " [ 0. -0.  1.]]\n"
     ]
    }
   ],
   "source": [
    "print(np.dot(V.T, V))"
   ]
  },
  {
   "cell_type": "markdown",
   "metadata": {},
   "source": [
    "Проведём проверку."
   ]
  },
  {
   "cell_type": "code",
   "execution_count": 48,
   "metadata": {},
   "outputs": [
    {
     "name": "stdout",
     "output_type": "stream",
     "text": [
      "[[ 1.  2.  0.]\n",
      " [ 0. -0.  5.]\n",
      " [ 3. -4.  2.]\n",
      " [ 1.  6.  5.]\n",
      " [-0.  1.  0.]]\n"
     ]
    }
   ],
   "source": [
    "print(np.dot(np.dot(U, D), V.T))"
   ]
  },
  {
   "cell_type": "markdown",
   "metadata": {},
   "source": [
    "Разложение осуществлено успешно."
   ]
  },
  {
   "cell_type": "markdown",
   "metadata": {},
   "source": [
    "### ALS разложение ###"
   ]
  },
  {
   "cell_type": "markdown",
   "metadata": {},
   "source": [
    "В методе альтернативных наименьших квадратов мы считаем один набор векторов постоянным(зафиксируем его). Затем мы берем производную функции \n",
    "потерь(ищем градиент) по другому набору векторов. Мы устанавливаем производную равной нулю, поскольку хотим минимизировать функцию\n",
    "потерь и обучаемся на антиградиент. Теперь вычисленные векторы мы считаем постоянными. Теперь ищем [градиент](https://github.com/doksketch/algorithms-for-data-analysis/tree/master/00_math_analysis) по векторам, которые зафиксировали в прошлый раз. \n",
    "Таким образом, итерационно, мы постепенно приближаем сходимость и с каждым шагом минимизируем функцию потерь."
   ]
  },
  {
   "cell_type": "markdown",
   "metadata": {},
   "source": [
    "$$\\sum\\limits_{i, j}^{\\infty}w_{i, j}(u_{i}v_{j}^T - x_{i,j})^2 \\rightarrow \\min$$"
   ]
  },
  {
   "cell_type": "markdown",
   "metadata": {},
   "source": [
    "$$\\frac{\\partial U}{\\partial x_{u}}dx  = -2 \\sum\\limits_{i, j}^{\\infty}w_{i, j}(u_{i}v_{j}^T - x_{i,j}) $$"
   ]
  },
  {
   "cell_type": "markdown",
   "metadata": {},
   "source": [
    "Фактически, в роли функции потерь у нас выступает [метод наименьших квадратов](https://github.com/doksketch/algorithms-for-data-analysis/blob/master/01_linear%20regression%20and%20gradient%20descent.ipynb). Оптимизация функции потерь происходит с использованием градиентного(стохастического) градиентного спуска. Для решения проблемы переобучения можем добавить L1 и L2 [регуляризацию](https://github.com/doksketch/algorithms-for-data-analysis/blob/master/02_L1-L2%20regularization_stochastic%20gradient%20descent.ipynb)."
   ]
  }
 ],
 "metadata": {
  "kernelspec": {
   "display_name": "Python 3",
   "language": "python",
   "name": "python3"
  },
  "language_info": {
   "codemirror_mode": {
    "name": "ipython",
    "version": 3
   },
   "file_extension": ".py",
   "mimetype": "text/x-python",
   "name": "python",
   "nbconvert_exporter": "python",
   "pygments_lexer": "ipython3",
   "version": "3.7.4"
  }
 },
 "nbformat": 4,
 "nbformat_minor": 2
}
