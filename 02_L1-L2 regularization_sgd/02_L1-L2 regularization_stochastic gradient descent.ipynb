{
 "cells": [
  {
   "cell_type": "code",
   "execution_count": 1,
   "metadata": {},
   "outputs": [],
   "source": [
    "import numpy as np\n",
    "import matplotlib.pyplot as plt\n",
    "from sklearn.datasets import make_regression"
   ]
  },
  {
   "cell_type": "markdown",
   "metadata": {},
   "source": [
    "# 1.Регуляризация"
   ]
  },
  {
   "cell_type": "markdown",
   "metadata": {},
   "source": [
    "Метод регуляризации заключается в \"штрафовании\" модели за слишком большие веса путем добавления нового члена к среднеквадратичной ошибке:\n",
    "\n",
    "$$Q(w, X) + \\lambda ||w||^{2} \\rightarrow \\underset{w}{\\text{min}}.$$\n",
    "\n",
    "добавленный член $\\lambda ||w||^{2}$ - _квадратичный регуляризатор_, который представляет собой $L_{2}$-норму вектора весов, то есть сумму квадратов весов $\\sum^{d}_{j=1}w_{j}^{2}$, коэффицент $\\lambda$ при нем - коэффициент регуляризации. Чем больше его значение, тем меньшая сложность модели будет получаться в процессе такого обучения. Если увеличивать его, в какой-то момент оптимальным для модели окажется зануление всех весов. В то же время при слишком низких его значениях появляется вероятность чрезмерного усложнения модели и переобучения. Выбор оптимального значения этого коэфициента является отдельной задачей и заключается в многократном обучении модели с разными его значениями и сравнении их качества."
   ]
  },
  {
   "cell_type": "markdown",
   "metadata": {},
   "source": [
    "По сути, смысл регуляризации заключается, как и в обычном обучении, в минимизации функционала ошибки, только в данном случае добавляется условие **непревышения нормой вектора весов** некоторого значения $||w||^{2}\\leq C$, то есть ограничение весов, что и будет залогом избежания переобучения."
   ]
  },
  {
   "cell_type": "markdown",
   "metadata": {},
   "source": [
    "Описанный выше метод с использованием $L_{2}$-нормы вектора весов в качестве регуляризатора называется _$L_{2}$-регуляризацией_. По аналогии существует также _$L_{1}$-регуляризация_, использующая в качестве регуляризатора $L_{1}$-норму вектора весов, то есть сумму модулей весов.\n",
    "\n",
    "$$||w||_{1} = \\sum^{d}_{j=1}|w_{j}|.$$"
   ]
  },
  {
   "cell_type": "markdown",
   "metadata": {},
   "source": [
    "$L_{2}$-регуляризатор представляет собой **непрерывную гладкую функцию**, поэтому его добавление не усложняет использование градиентных методов оптимизации, так как в каждой его точке существует производная. $L_{1}$-регуляризатор уже не является гладкой функцией, так как в нем есть модуль, у которого не существует производной в нуле. То есть его использование усложняет градиентные методы оптимизации, если необходимо будет искать производную в нуле. Однако, L1 регуляризация обладает интересной особенностью, заключающейся в занулении некоторых весов при его применении. Иными словами, происходит отбор признаков, в результате чего остаются только самые важные признаки. Обычно сначала подбирают порядок регуляризации(e^-1, e^-2, и.т.д). Далее\n",
    "параметр можно подбирать более точнее. Далеко не всегда линейная модель чувствительна к гиперпараметрам, поэтому можно ограничиться только подбором порядка регуляризации."
   ]
  },
  {
   "cell_type": "markdown",
   "metadata": {},
   "source": [
    "# 2. Стохастический градиентный спуск"
   ]
  },
  {
   "cell_type": "markdown",
   "metadata": {},
   "source": [
    "Если расписать $j$-ю компонетну градиентного спуска, то получим\n",
    "\n",
    "$$\\frac{\\partial Q}{\\partial w_{j}} = \\frac{2}{l}\\sum^{l}_{i=1}x^{j}_{i}(\\left \\langle w,x_{i} \\right \\rangle - y_{i}),$$\n",
    "\n",
    "то есть суммирование по всем $l$ объектам обучающей выборки. Здесь выражение под суммой показывает, как нужно изменить $j$-й вес, чтобы как можно сильнее улучшить качество __на объекте $x_{i}$__, а вся сумма показывает, как нужно изменить вес, чтобы улучшить качество на __всей выборке__.\n",
    "\n",
    "В этой формуле отражен один из главных недостатков градиентного спуска: если выборка большая по объему, то даже один шаг градиентного спуска будет занимать много вычислительных ресурсов и времени."
   ]
  },
  {
   "cell_type": "markdown",
   "metadata": {},
   "source": [
    "Стремление к оптимизации процесса привело к появлению _стохастического градиентного спуска_ (Stochastic gradient descent, SGD). Идея его основана на том, что на одной итерации мы вычитаем не вектор градиента, вычисленный по всей выборке, а вместо этого случайно выбираем один объект из обучающей выборки $x_{i}$ и вычисляем градиент только на этом объекте, то есть градиент только одного слагаемого в функционале ошибки и вычитаем именно этот градиент из текущего приближения вектора весов:\n",
    "\n",
    "$$w^{k} = w^{k-1} - \\eta_{k}\\nabla Q(w^{k-1}, \\{x_{i}\\}),$$\n",
    "\n",
    "то есть $\\nabla Q(w^{k-1}, X)$ заменяется на $\\nabla Q(w^{k-1}, \\{x_{i}\\})$."
   ]
  },
  {
   "cell_type": "markdown",
   "metadata": {},
   "source": [
    "Если в случае градиентного спуска мы стараемся на каждой итерации уменьшить ошибку на всей выборке, и по мере увеличения числа итераций ошибка падает монотонно, то в случае стохастического градиентного спуска мы уменьшаем на каждой итерации ошибку **только на одном либо нескольких объектах**, но при этом есть вероятность увеличить ее на другом объекте, поэтому график изменения ошибки может получаться немонотонным, и даже иметь пики. То есть на какой-то итерации мы можем даже увеличить ошибку, но при этом в целом по ходу метода ошибка снижается, и рано или поздно мы выходим на нормальный уровень. Также, как и в обычном \n",
    "градиентом спуске, в итоге находим оптимальные значения весов с использованием информации на предыдущей итерации."
   ]
  },
  {
   "cell_type": "markdown",
   "metadata": {},
   "source": [
    "# 3. Примеры"
   ]
  },
  {
   "cell_type": "markdown",
   "metadata": {},
   "source": [
    "## 3.1 Сравнение градиентного спуска и стохастического градиентного спуска"
   ]
  },
  {
   "cell_type": "markdown",
   "metadata": {},
   "source": [
    "Сгенерировать датасет при помощи sklearn.datasets.make_regression и обучить линейную модель при помощи градиентного и стохастического градиентного спуска. Нанести среднеквадратичную ошибку для обоих методов на один график, сделать выводы о разнице скорости сходимости каждого из методов."
   ]
  },
  {
   "cell_type": "code",
   "execution_count": 2,
   "metadata": {},
   "outputs": [],
   "source": [
    "n_samples = 1000\n",
    "n_features = 3\n",
    "n_informative= 2\n",
    "n_targets = 1\n",
    "noise = 5\n",
    "rng = np.random.RandomState(42)\n",
    "X, y, coef = make_regression(n_samples, n_features, n_informative, n_targets, \n",
    "                             noise, coef = True, random_state = rng)"
   ]
  },
  {
   "cell_type": "code",
   "execution_count": 3,
   "metadata": {},
   "outputs": [],
   "source": [
    "# реализуем функцию, определяющую среднеквадратичную ошибку\n",
    "def calc_mse(y, y_pred):\n",
    "    err = np.mean((y - y_pred)**2)\n",
    "    return err"
   ]
  },
  {
   "cell_type": "markdown",
   "metadata": {},
   "source": [
    "**Градиентный спуск**"
   ]
  },
  {
   "cell_type": "code",
   "execution_count": 354,
   "metadata": {},
   "outputs": [],
   "source": [
    "def eval_gd_model(X, y, iterations, alpha=1e-4):\n",
    "    W = np.random.randn(X.shape[1])\n",
    "    n = X.shape[0]\n",
    "    errors = []\n",
    "    num_iterations = []\n",
    "    \n",
    "    for i in range(1, iterations+1):\n",
    "        y_pred = np.dot(X, W)\n",
    "        err = calc_mse(y, y_pred)\n",
    "        W -= (alpha * (1/n * 2 * np.dot(X.T, (y_pred - y))))\n",
    "        \n",
    "        if i % (iterations / 5) == 0:\n",
    "            errors.append(err)\n",
    "            num_iterations.append(i)\n",
    "    \n",
    "    return num_iterations, errors "
   ]
  },
  {
   "cell_type": "markdown",
   "metadata": {},
   "source": [
    "**Стохастический градиентный спуск**"
   ]
  },
  {
   "cell_type": "code",
   "execution_count": 359,
   "metadata": {},
   "outputs": [],
   "source": [
    "def eval_sgd_model(X, y, iterations=None, batch_size=None, alpha=None):\n",
    "    W = np.random.randn(X.shape[0])\n",
    "    n = X.shape[1]\n",
    "    n_batch = n // batch_size #количество элементов в 'порции'\n",
    "    if n % batch_size != 0: #если количество элементов нечётное\n",
    "        n_batch += 1\n",
    "        \n",
    "    errors = []\n",
    "    num_iterations = []\n",
    "    \n",
    "    for i in range(1, iterations+1):\n",
    "        for b in range(n_batch):\n",
    "            start_ = batch_size*b #вычисляем индексы объектов, которые должны попасть\n",
    "            end_ = batch_size*(b+1) #вычисляем индексы объектов, которые должны попасть\n",
    "\n",
    "            # print(b, n_batch, start_, end_)\n",
    "\n",
    "            X_tmp = X[:, start_ : end_] #выбор элемента\n",
    "            y_tmp = y[start_ : end_] #выбор элемента\n",
    "            y_pred_tmp = np.dot(W, X_tmp)\n",
    "            err = calc_mse(y_tmp, y_pred_tmp)\n",
    "            W -= (alpha * (1/n * 2 * np.dot((y_pred_tmp - y_tmp), X_tmp.T)))\n",
    "\n",
    "        if i % (iterations / 5) == 0:\n",
    "            errors.append(err)\n",
    "            num_iterations.append(i)\n",
    "    \n",
    "    return num_iterations, errors"
   ]
  },
  {
   "cell_type": "code",
   "execution_count": 362,
   "metadata": {},
   "outputs": [
    {
     "name": "stdout",
     "output_type": "stream",
     "text": [
      "Wall time: 30.9 ms\n"
     ]
    }
   ],
   "source": [
    "%%time\n",
    "num_iterations_gd, errors_gd = eval_gd_model(X, y, iterations=500, alpha=0.01)"
   ]
  },
  {
   "cell_type": "code",
   "execution_count": 364,
   "metadata": {},
   "outputs": [
    {
     "name": "stdout",
     "output_type": "stream",
     "text": [
      "Wall time: 18 s\n"
     ]
    }
   ],
   "source": [
    "%%time\n",
    "num_iterations_sgd, errors_sgd = eval_sgd_model(X.T, y, iterations=500, batch_size=1, alpha=0.01)"
   ]
  },
  {
   "cell_type": "markdown",
   "metadata": {},
   "source": [
    "**Batch - реализация**"
   ]
  },
  {
   "cell_type": "markdown",
   "metadata": {},
   "source": [
    "Batch_size обычно выбирают как 2^n(т.е. 16, 32, 64, и.т.д). Чем он меньше тем лучше, поскольку чем чаще будем обновлять веса, тем быстрее добьёмся сходимости."
   ]
  },
  {
   "cell_type": "markdown",
   "metadata": {},
   "source": [
    "![title](batch.png)"
   ]
  },
  {
   "cell_type": "code",
   "execution_count": 365,
   "metadata": {},
   "outputs": [
    {
     "name": "stdout",
     "output_type": "stream",
     "text": [
      "Wall time: 4.65 s\n"
     ]
    }
   ],
   "source": [
    "%%time\n",
    "num_iterations_batch, errors_batch = eval_sgd_model(X.T, y, iterations=500, batch_size=4, alpha=0.01)"
   ]
  },
  {
   "cell_type": "code",
   "execution_count": 366,
   "metadata": {},
   "outputs": [],
   "source": [
    "plots = []\n",
    "plots.append(('Классическая реализация', num_iterations_gd, errors_gd))\n",
    "plots.append(('Стохастический градиентный спуск', num_iterations_sgd, errors_sgd))\n",
    "plots.append(('Батч-реализация', num_iterations_batch, errors_batch))"
   ]
  },
  {
   "cell_type": "code",
   "execution_count": 436,
   "metadata": {},
   "outputs": [
    {
     "data": {
      "text/plain": [
       "[('Классическая реализация',\n",
       "  [100, 200, 300, 400, 500],\n",
       "  [392.2210087203734,\n",
       "   33.3674252506901,\n",
       "   25.059960387061416,\n",
       "   24.864221052727487,\n",
       "   24.859558165950155]),\n",
       " ('Стохастический градиентный спуск',\n",
       "  [100, 200, 300, 400, 500],\n",
       "  [172.6417069214218,\n",
       "   5.686821232335924,\n",
       "   22.372040836084164,\n",
       "   25.883270520387576,\n",
       "   26.44562882415334]),\n",
       " ('Батч-реализация',\n",
       "  [100, 200, 300, 400, 500],\n",
       "  [133.51303713729504,\n",
       "   23.25594752967763,\n",
       "   25.402195119275596,\n",
       "   26.10121549262888,\n",
       "   26.21063739991045])]"
      ]
     },
     "execution_count": 436,
     "metadata": {},
     "output_type": "execute_result"
    }
   ],
   "source": [
    "plots"
   ]
  },
  {
   "cell_type": "code",
   "execution_count": 409,
   "metadata": {},
   "outputs": [],
   "source": [
    "def iter_mse(data):\n",
    "    plt.figure(figsize=(16, 6))\n",
    "    plt.plot(plots[0][1], plots[0][2], c='b')\n",
    "    plt.plot(plots[1][1], plots[1][2], c='r')\n",
    "    plt.plot(plots[2][1], plots[2][2], c='g')\n",
    "    \n",
    "    plt.legend((plots[0][0], plots[1][0], plots[2][0]),\n",
    "               loc='upper right')\n",
    "\n",
    "    plt.title('Зависимость среднеквадратичной ошибки от числа итераций', fontsize=16)\n",
    "    plt.xlabel('Число итераций')\n",
    "    plt.ylabel('Среднеквадратичная ошибка')"
   ]
  },
  {
   "cell_type": "code",
   "execution_count": 410,
   "metadata": {},
   "outputs": [
    {
     "data": {
      "image/png": "[encoded data removed]",
      "text/plain": [
       "<Figure size 1152x432 with 1 Axes>"
      ]
     },
     "metadata": {
      "needs_background": "light"
     },
     "output_type": "display_data"
    }
   ],
   "source": [
    "iter_mse(plots)"
   ]
  },
  {
   "cell_type": "markdown",
   "metadata": {},
   "source": [
    "Если остановить реализацию между 100 и 200 итерациями (задать критерий остановки), то получим следующие результаты.\n",
    "SGD сходится быстрее всех, на втором месте батч-реализация. Худший результат показала классическая реализация. Однако, классическая реализация оказалась более точной на большем числе итераций.Время, затраченное на реализацию каждого из вариантов обратно пропорционально обозначенным результатам.\n",
    "Более высокая скорость обучения была подобрана заранее."
   ]
  },
  {
   "cell_type": "markdown",
   "metadata": {},
   "source": [
    "## 3.2. Модифицировать решение первого задания путем добавления 𝐿2 -регуляризации и сравнить результаты."
   ]
  },
  {
   "cell_type": "markdown",
   "metadata": {},
   "source": [
    "Добавим L2 норму."
   ]
  },
  {
   "cell_type": "code",
   "execution_count": 440,
   "metadata": {},
   "outputs": [],
   "source": [
    "def eval_gd_model_reg_2(X, y, iterations, alpha=None, lambda_=None):\n",
    "    W = np.random.randn(X.shape[1])\n",
    "    n = X.shape[0]\n",
    "    \n",
    "    errors = []\n",
    "    num_iterations = []\n",
    "    \n",
    "    for i in range(1, iterations+1):\n",
    "        y_pred = np.dot(X, W)\n",
    "        err = calc_mse(y, y_pred)\n",
    "        W -= (alpha * (1/n * 2 * np.dot(X.T, (y_pred - y))) + 2 * lambda_ * W)\n",
    "        \n",
    "        if i % (iterations / 5) == 0:\n",
    "            errors.append(err)\n",
    "            num_iterations.append(i)\n",
    "    \n",
    "    return num_iterations, errors"
   ]
  },
  {
   "cell_type": "code",
   "execution_count": 468,
   "metadata": {},
   "outputs": [
    {
     "name": "stdout",
     "output_type": "stream",
     "text": [
      "Wall time: 17.9 ms\n"
     ]
    }
   ],
   "source": [
    "%%time\n",
    "num_iterations_gdreg2, errors_gdreg2 = eval_gd_model_reg_2(X, y, iterations=500, alpha=0.01, lambda_=1e-15)"
   ]
  },
  {
   "cell_type": "code",
   "execution_count": 469,
   "metadata": {},
   "outputs": [
    {
     "data": {
      "text/plain": [
       "[385.35857573673036,\n",
       " 33.23051845326555,\n",
       " 25.05704976819446,\n",
       " 24.864156103647836,\n",
       " 24.859556667411567]"
      ]
     },
     "execution_count": 469,
     "metadata": {},
     "output_type": "execute_result"
    }
   ],
   "source": [
    "errors_gdreg2"
   ]
  },
  {
   "cell_type": "code",
   "execution_count": 442,
   "metadata": {},
   "outputs": [],
   "source": [
    "def eval_sgd_model_reg2(X, y, iterations=None, batch_size=None, alpha=None, lambda_=None):\n",
    "    W = np.random.randn(X.shape[0])\n",
    "    n = X.shape[1]\n",
    "    n_batch = n // batch_size #количество элементов \n",
    "    if n % batch_size != 0: #если количество элементов нечётное\n",
    "        n_batch += 1\n",
    "    \n",
    "    errors = []\n",
    "    num_iterations = []\n",
    "    \n",
    "    for i in range(1, iterations+1):\n",
    "        for b in range(n_batch):\n",
    "            start_ = batch_size*b #вычисляем индексы объектов, которые должны попасть\n",
    "            end_ = batch_size*(b+1) #вычисляем индексы объектов, которые должны попасть\n",
    "\n",
    "            # print(b, n_batch, start_, end_)\n",
    "\n",
    "            X_tmp = X[:, start_ : end_] #выбор элемента\n",
    "            y_tmp = y[start_ : end_] #выбор элемента\n",
    "            y_pred_tmp = np.dot(W, X_tmp)\n",
    "            err = calc_mse(y_tmp, y_pred_tmp)\n",
    "            W -= (alpha * (1/n * 2 * np.dot((y_pred_tmp - y_tmp), X_tmp.T)) + 2 * lambda_ * W)\n",
    "\n",
    "        if i % (iterations / 5) == 0:\n",
    "            errors.append(err)\n",
    "            num_iterations.append(i)\n",
    "    \n",
    "    return num_iterations, errors"
   ]
  },
  {
   "cell_type": "code",
   "execution_count": 466,
   "metadata": {},
   "outputs": [
    {
     "name": "stdout",
     "output_type": "stream",
     "text": [
      "Wall time: 8.01 s\n"
     ]
    }
   ],
   "source": [
    "%%time\n",
    "num_iterations_sgdreg2, errors_sgdreg2 = eval_sgd_model_reg2(X.T, y, iterations=500, batch_size = 1, alpha=0.01, lambda_=1e-15)"
   ]
  },
  {
   "cell_type": "code",
   "execution_count": 467,
   "metadata": {},
   "outputs": [
    {
     "data": {
      "text/plain": [
       "[182.6651318688475,\n",
       " 5.454872252376852,\n",
       " 22.310434537352993,\n",
       " 25.874334048328006,\n",
       " 26.44439029736652]"
      ]
     },
     "execution_count": 467,
     "metadata": {},
     "output_type": "execute_result"
    }
   ],
   "source": [
    "errors_sgdreg2"
   ]
  },
  {
   "cell_type": "code",
   "execution_count": 470,
   "metadata": {},
   "outputs": [
    {
     "name": "stdout",
     "output_type": "stream",
     "text": [
      "Wall time: 2.03 s\n"
     ]
    }
   ],
   "source": [
    "%%time\n",
    "num_iterations_batchreg2, errors_batchreg2 = eval_sgd_model_reg2(X.T, y, iterations=500, batch_size = 4, alpha=0.01, lambda_=1e-15)"
   ]
  },
  {
   "cell_type": "code",
   "execution_count": 471,
   "metadata": {},
   "outputs": [
    {
     "data": {
      "text/plain": [
       "[131.35661826736697,\n",
       " 23.04947985085215,\n",
       " 25.37959970525829,\n",
       " 26.09842814077929,\n",
       " 26.21027949829454]"
      ]
     },
     "execution_count": 471,
     "metadata": {},
     "output_type": "execute_result"
    }
   ],
   "source": [
    "errors_batchreg2"
   ]
  },
  {
   "cell_type": "code",
   "execution_count": 445,
   "metadata": {},
   "outputs": [],
   "source": [
    "reg2_plots = []\n",
    "reg2_plots.append(('Классическая реализация', num_iterations_gdreg2, errors_gdreg2))\n",
    "reg2_plots.append(('Стохастический градиентный спуск', num_iterations_sgd, errors_sgd))\n",
    "reg2_plots.append(('Батч-реализация', num_iterations_batchreg2, errors_batchreg2))"
   ]
  },
  {
   "cell_type": "code",
   "execution_count": 446,
   "metadata": {},
   "outputs": [
    {
     "data": {
      "text/plain": [
       "[('Классическая реализация',\n",
       "  [100, 200, 300, 400, 500],\n",
       "  [382.49816557114303,\n",
       "   33.17730954421607,\n",
       "   25.056880004669807,\n",
       "   24.86430454950277,\n",
       "   24.85958484419112]),\n",
       " ('Стохастический градиентный спуск',\n",
       "  [100, 200, 300, 400, 500],\n",
       "  [172.6417069214218,\n",
       "   5.686821232335924,\n",
       "   22.372040836084164,\n",
       "   25.883270520387576,\n",
       "   26.44562882415334]),\n",
       " ('Батч-реализация',\n",
       "  [100, 200, 300, 400, 500],\n",
       "  [136.99871053078448,\n",
       "   23.20078673909221,\n",
       "   24.684523006621877,\n",
       "   25.27876388599265,\n",
       "   25.3720584454055])]"
      ]
     },
     "execution_count": 446,
     "metadata": {},
     "output_type": "execute_result"
    }
   ],
   "source": [
    "reg2_plots"
   ]
  },
  {
   "cell_type": "code",
   "execution_count": 474,
   "metadata": {},
   "outputs": [
    {
     "data": {
      "image/png": "[encoded data removed]",
      "text/plain": [
       "<Figure size 1152x432 with 1 Axes>"
      ]
     },
     "metadata": {
      "needs_background": "light"
     },
     "output_type": "display_data"
    }
   ],
   "source": [
    "iter_mse(reg2_plots)"
   ]
  },
  {
   "cell_type": "markdown",
   "metadata": {},
   "source": [
    "Выводы по сходимости аналогичные 3.1. Дополнительно можно отметить, что удалось лучше минимизировать функцию потерь (около 0,2 п.п.). На графике этого не видно, посмотрим по отчёту."
   ]
  },
  {
   "cell_type": "code",
   "execution_count": 473,
   "metadata": {},
   "outputs": [
    {
     "name": "stdout",
     "output_type": "stream",
     "text": [
      "Без L2-регуляризации\n"
     ]
    },
    {
     "data": {
      "text/plain": [
       "[('Классическая реализация',\n",
       "  [100, 200, 300, 400, 500],\n",
       "  [392.2210087203734,\n",
       "   33.3674252506901,\n",
       "   25.059960387061416,\n",
       "   24.864221052727487,\n",
       "   24.859558165950155]),\n",
       " ('Стохастический градиентный спуск',\n",
       "  [100, 200, 300, 400, 500],\n",
       "  [172.6417069214218,\n",
       "   5.686821232335924,\n",
       "   22.372040836084164,\n",
       "   25.883270520387576,\n",
       "   26.44562882415334]),\n",
       " ('Батч-реализация',\n",
       "  [100, 200, 300, 400, 500],\n",
       "  [133.51303713729504,\n",
       "   23.25594752967763,\n",
       "   25.402195119275596,\n",
       "   26.10121549262888,\n",
       "   26.21063739991045])]"
      ]
     },
     "execution_count": 473,
     "metadata": {},
     "output_type": "execute_result"
    }
   ],
   "source": [
    "print('Без L2-регуляризации')\n",
    "plots"
   ]
  },
  {
   "cell_type": "code",
   "execution_count": 475,
   "metadata": {},
   "outputs": [
    {
     "name": "stdout",
     "output_type": "stream",
     "text": [
      "L2-регуляризация\n"
     ]
    },
    {
     "data": {
      "text/plain": [
       "[('Классическая реализация',\n",
       "  [100, 200, 300, 400, 500],\n",
       "  [382.49816557114303,\n",
       "   33.17730954421607,\n",
       "   25.056880004669807,\n",
       "   24.86430454950277,\n",
       "   24.85958484419112]),\n",
       " ('Стохастический градиентный спуск',\n",
       "  [100, 200, 300, 400, 500],\n",
       "  [172.6417069214218,\n",
       "   5.686821232335924,\n",
       "   22.372040836084164,\n",
       "   25.883270520387576,\n",
       "   26.44562882415334]),\n",
       " ('Батч-реализация',\n",
       "  [100, 200, 300, 400, 500],\n",
       "  [136.99871053078448,\n",
       "   23.20078673909221,\n",
       "   24.684523006621877,\n",
       "   25.27876388599265,\n",
       "   25.3720584454055])]"
      ]
     },
     "execution_count": 475,
     "metadata": {},
     "output_type": "execute_result"
    }
   ],
   "source": [
    "print('L2-регуляризация')\n",
    "reg2_plots"
   ]
  },
  {
   "cell_type": "markdown",
   "metadata": {},
   "source": [
    "## 3.3. Заменить L2 регуляризацию на L1 регуляризацию."
   ]
  },
  {
   "cell_type": "markdown",
   "metadata": {},
   "source": [
    "![title](lasso_gradient.png)"
   ]
  },
  {
   "cell_type": "code",
   "execution_count": 4,
   "metadata": {},
   "outputs": [],
   "source": [
    "def eval_gd_model_reg_1(X, y, iterations, alpha=None, lambda_=None):\n",
    "    W = np.random.randn(X.shape[1])\n",
    "    n = X.shape[0]\n",
    "    \n",
    "    errors = []\n",
    "    num_iterations = []\n",
    "    \n",
    "    for i in range(1, iterations+1):\n",
    "        y_pred = np.dot(X, W)\n",
    "        err = calc_mse(y, y_pred)\n",
    "        W -= (alpha * (1/n * 2 * np.dot(X.T, (y_pred - y))) + 2 * ((lambda_* W)/np.abs(W)))\n",
    "        \n",
    "        if i % (iterations / 5) == 0:\n",
    "            errors.append(err)\n",
    "            num_iterations.append(i)\n",
    "    \n",
    "    return num_iterations, errors"
   ]
  },
  {
   "cell_type": "code",
   "execution_count": 22,
   "metadata": {},
   "outputs": [
    {
     "name": "stdout",
     "output_type": "stream",
     "text": [
      "Wall time: 35.9 ms\n"
     ]
    }
   ],
   "source": [
    "%%time\n",
    "num_iterations_gdreg1, errors_gdreg1 = eval_gd_model_reg_1(X, y, iterations=500, alpha=0.01, lambda_=1e-15)"
   ]
  },
  {
   "cell_type": "code",
   "execution_count": 7,
   "metadata": {},
   "outputs": [],
   "source": [
    "def eval_sgd_model_reg1(X, y, iterations=None, batch_size=None, alpha=None, lambda_=None):\n",
    "    W = np.random.randn(X.shape[0])\n",
    "    n = X.shape[1]\n",
    "    n_batch = n // batch_size #количество элементов \n",
    "    if n % batch_size != 0: #если количество элементов нечётное\n",
    "        n_batch += 1\n",
    "    \n",
    "    errors = []\n",
    "    num_iterations = []\n",
    "    \n",
    "    for i in range(1, iterations+1):\n",
    "        for b in range(n_batch):\n",
    "            start_ = batch_size*b #вычисляем индексы объектов, которые должны попасть\n",
    "            end_ = batch_size*(b+1) #вычисляем индексы объектов, которые должны попасть\n",
    "\n",
    "            # print(b, n_batch, start_, end_)\n",
    "\n",
    "            X_tmp = X[:, start_ : end_] #выбор элемента\n",
    "            y_tmp = y[start_ : end_] #выбор элемента\n",
    "            y_pred_tmp = np.dot(W, X_tmp)\n",
    "            err = calc_mse(y_tmp, y_pred_tmp)\n",
    "            W -= (alpha * (1/n * 2 * np.dot((y_pred_tmp - y_tmp), X_tmp.T)) + 2 * ((lambda_* W)/np.abs(W)))\n",
    "\n",
    "        if i % (iterations / 5) == 0:\n",
    "            errors.append(err)\n",
    "            num_iterations.append(i)\n",
    "    \n",
    "    return num_iterations, errors"
   ]
  },
  {
   "cell_type": "code",
   "execution_count": 9,
   "metadata": {},
   "outputs": [
    {
     "name": "stdout",
     "output_type": "stream",
     "text": [
      "Wall time: 23.7 s\n"
     ]
    }
   ],
   "source": [
    "%%time\n",
    "num_iterations_sgdreg1, errors_sgdreg1 = eval_sgd_model_reg1(X.T, y, iterations=500, batch_size = 1, alpha=0.01, lambda_=1e-15)"
   ]
  },
  {
   "cell_type": "code",
   "execution_count": 10,
   "metadata": {},
   "outputs": [
    {
     "name": "stdout",
     "output_type": "stream",
     "text": [
      "Wall time: 6.14 s\n"
     ]
    }
   ],
   "source": [
    "%%time\n",
    "num_iterations_batchreg1, errors_batchreg1 = eval_sgd_model_reg1(X.T, y, iterations=500, batch_size = 4, alpha=0.01, lambda_=1e-15)"
   ]
  },
  {
   "cell_type": "code",
   "execution_count": 21,
   "metadata": {},
   "outputs": [
    {
     "data": {
      "text/plain": [
       "[383.16228473437934,\n",
       " 33.16555794490315,\n",
       " 25.055287238166493,\n",
       " 24.864110231732695,\n",
       " 24.859555500084397]"
      ]
     },
     "execution_count": 21,
     "metadata": {},
     "output_type": "execute_result"
    }
   ],
   "source": [
    "errors_gdreg1"
   ]
  },
  {
   "cell_type": "code",
   "execution_count": 23,
   "metadata": {},
   "outputs": [
    {
     "data": {
      "text/plain": [
       "[176.77579881738052,\n",
       " 5.590951760339483,\n",
       " 22.34705075476634,\n",
       " 25.87969510838173,\n",
       " 26.445139880724252]"
      ]
     },
     "execution_count": 23,
     "metadata": {},
     "output_type": "execute_result"
    }
   ],
   "source": [
    "errors_sgdreg1"
   ]
  },
  {
   "cell_type": "code",
   "execution_count": 24,
   "metadata": {},
   "outputs": [
    {
     "data": {
      "text/plain": [
       "[132.86216186780587,\n",
       " 23.088788742198176,\n",
       " 25.376757780172092,\n",
       " 26.097459003582287,\n",
       " 26.21008098805234]"
      ]
     },
     "execution_count": 24,
     "metadata": {},
     "output_type": "execute_result"
    }
   ],
   "source": [
    "errors_batchreg1"
   ]
  },
  {
   "cell_type": "markdown",
   "metadata": {},
   "source": [
    "Для стохастического градиента и батч реализации удалоась снизить значение MSE на около 0.01 п.п."
   ]
  }
 ],
 "metadata": {
  "kernelspec": {
   "display_name": "Python 3",
   "language": "python",
   "name": "python3"
  },
  "language_info": {
   "codemirror_mode": {
    "name": "ipython",
    "version": 3
   },
   "file_extension": ".py",
   "mimetype": "text/x-python",
   "name": "python",
   "nbconvert_exporter": "python",
   "pygments_lexer": "ipython3",
   "version": "3.7.4"
  }
 },
 "nbformat": 4,
 "nbformat_minor": 2
}
